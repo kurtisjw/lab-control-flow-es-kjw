{
 "cells": [
  {
   "cell_type": "markdown",
   "metadata": {},
   "source": [
    "## Palabras"
   ]
  },
  {
   "cell_type": "code",
   "execution_count": 1,
   "metadata": {},
   "outputs": [],
   "source": [
    "words = ['play', 'filling', 'bar', 'theatre', 'easygoing', 'date', 'lead', 'that', 'story',  'island']"
   ]
  },
  {
   "cell_type": "markdown",
   "metadata": {},
   "source": [
    "**Imprime todas las letras en mayuscula**"
   ]
  },
  {
   "cell_type": "code",
   "execution_count": 2,
   "metadata": {},
   "outputs": [
    {
     "name": "stdout",
     "output_type": "stream",
     "text": [
      "['PLAY', 'FILLING', 'BAR', 'THEATRE', 'EASYGOING', 'DATE', 'LEAD', 'THAT', 'STORY', 'ISLAND']\n"
     ]
    }
   ],
   "source": [
    "# Definir variable 'words'\n",
    "\n",
    "words = ['play', 'filling', 'bar', 'theatre', 'easygoing', 'date', 'lead', 'that', 'story',  'island']\n",
    "\n",
    "# Crear nuevo variable para convertir las letras en mayuscula\n",
    "\n",
    "upper_words = [x.upper() for x in words]\n",
    "\n",
    "# Asignar valor de 'upper_words' a 'words'\n",
    "\n",
    "words = upper_words\n",
    "\n",
    "# Comprobar resultados\n",
    "\n",
    "print(words)"
   ]
  },
  {
   "cell_type": "markdown",
   "metadata": {},
   "source": [
    "**Crea una nueva lista que contenga 5 o más letras**"
   ]
  },
  {
   "cell_type": "code",
   "execution_count": 4,
   "metadata": {},
   "outputs": [
    {
     "name": "stdout",
     "output_type": "stream",
     "text": [
      "['Shelagh', 'take', 'a', 'bow', 'the', 'Smiths']\n"
     ]
    }
   ],
   "source": [
    "# Crear nueva lista y imprimir\n",
    "\n",
    "new_list = ['Shelagh', 'take', 'a', 'bow', 'the', 'Smiths']\n",
    "\n",
    "print(new_list)"
   ]
  },
  {
   "cell_type": "markdown",
   "metadata": {},
   "source": [
    "**Imprime la primera palabra que empiece por 't'**"
   ]
  },
  {
   "cell_type": "code",
   "execution_count": 5,
   "metadata": {},
   "outputs": [
    {
     "name": "stdout",
     "output_type": "stream",
     "text": [
      "La primera palabra que empiece por 't' es take\n"
     ]
    }
   ],
   "source": [
    "# Crear for loop para imprimir la primera palabra que empiece por 't' y luego break loop\n",
    "\n",
    "for word in new_list:\n",
    "    if word.startswith(\"t\"):\n",
    "        print(f\"La primera palabra que empiece por 't' es {word}\")\n",
    "        break"
   ]
  },
  {
   "cell_type": "markdown",
   "metadata": {},
   "source": [
    "## Numeros"
   ]
  },
  {
   "cell_type": "markdown",
   "metadata": {},
   "source": [
    "**Crea una lista que contenga el cuadraro de cada numero entre 1 y 10**"
   ]
  },
  {
   "cell_type": "code",
   "execution_count": 7,
   "metadata": {},
   "outputs": [
    {
     "name": "stdout",
     "output_type": "stream",
     "text": [
      "[1, 2, 3, 4, 5, 6, 7, 8, 9, 10]\n",
      "[1.0, 1.4142135623730951, 1.7320508075688772, 2.0, 2.23606797749979, 2.449489742783178, 2.6457513110645907, 2.8284271247461903, 3.0, 3.1622776601683795]\n"
     ]
    }
   ],
   "source": [
    "numeros = list(range (1,11))\n",
    "print(numeros)\n",
    "\n",
    "cuadrados = []\n",
    "\n",
    "for n in numeros:\n",
    "    n = [n**0.5]\n",
    "    cuadrados.extend(n)\n",
    "print(cuadrados)"
   ]
  },
  {
   "cell_type": "markdown",
   "metadata": {},
   "source": [
    "**Imprime una lista que contenga el cuadrado de cada número impar del 1 al 10**"
   ]
  },
  {
   "cell_type": "code",
   "execution_count": 8,
   "metadata": {},
   "outputs": [
    {
     "name": "stdout",
     "output_type": "stream",
     "text": [
      "[1.0, 1.7320508075688772, 2.23606797749979, 2.6457513110645907, 3.0]\n"
     ]
    }
   ],
   "source": [
    "# Crear empty list 'cuadrados'\n",
    "\n",
    "cuadrados = []\n",
    "\n",
    "# Crear for loop para encontrar el cuadrado de cada número impar en 'numeros' y luego agregar los numeros a la lista 'cuadrados'. Luego imprimir 'cuadrados'.\n",
    "\n",
    "# Comprobar si el remainder del número es 0 cuando se divide por 2 (número par). Luego encontrar la raíz cuadrada de los números impares y agregar los valores a la lista 'cuadrados'.\n",
    "\n",
    "for n in numeros:\n",
    "    if n % 2 ==0:\n",
    "       pass    \n",
    "    else:\n",
    "        n = [n**0.5]\n",
    "        cuadrados.extend(n)\n",
    "print(cuadrados)"
   ]
  },
  {
   "cell_type": "markdown",
   "metadata": {},
   "source": [
    "**Crear una lista con los cuadrados de todos los múltiplos de 8 por debajo de 1000**"
   ]
  },
  {
   "cell_type": "code",
   "execution_count": 19,
   "metadata": {},
   "outputs": [
    {
     "ename": "SyntaxError",
     "evalue": "invalid syntax (2437283345.py, line 3)",
     "output_type": "error",
     "traceback": [
      "\u001b[0;36m  Cell \u001b[0;32mIn[19], line 3\u001b[0;36m\u001b[0m\n\u001b[0;31m    print(num)\u001b[0m\n\u001b[0m    ^\u001b[0m\n\u001b[0;31mSyntaxError\u001b[0m\u001b[0;31m:\u001b[0m invalid syntax\n"
     ]
    }
   ],
   "source": [
    "num = list(range(8, 1001, 8)\n",
    "\n",
    "print(num)\n",
    "           \n",
    "# or (8, 1000, 8) si no queremos incluir el numero 1000 en la lista"
   ]
  },
  {
   "cell_type": "markdown",
   "metadata": {},
   "source": [
    "## People"
   ]
  },
  {
   "cell_type": "code",
   "execution_count": 11,
   "metadata": {},
   "outputs": [],
   "source": [
    "people = [\n",
    "    {\n",
    "        \"name\": \"Juan\",\n",
    "        \"age\": 34,\n",
    "        \"n_kids\": 2\n",
    "    },\n",
    "    {\n",
    "        \"name\": \"Pepe\",\n",
    "        \"age\": 27,\n",
    "        \"n_kids\": 0\n",
    "    },\n",
    "    {\n",
    "        \"name\": \"Sonia\",\n",
    "        \"age\": 41,\n",
    "        \"n_kids\": 1\n",
    "    },\n",
    "    {\n",
    "        \"name\": \"Lucía\",\n",
    "        \"age\": 22,\n",
    "        \"n_kids\": 2\n",
    "    },\n",
    "    {\n",
    "        \"name\": \"Leo\",\n",
    "        \"age\": 55,\n",
    "        \"n_kids\": 5\n",
    "    }\n",
    "]"
   ]
  },
  {
   "cell_type": "markdown",
   "metadata": {},
   "source": [
    "**Cuánta gente hay?**"
   ]
  },
  {
   "cell_type": "code",
   "execution_count": 12,
   "metadata": {},
   "outputs": [
    {
     "name": "stdout",
     "output_type": "stream",
     "text": [
      "Hay 5 personas.\n"
     ]
    }
   ],
   "source": [
    "# Crear variable 'head_count' para luego agregar el número de personas\n",
    "\n",
    "head_count = (0)\n",
    "\n",
    "#Usar for loop para contar las personas en 'people' y agregarlas al variable 'head_count'\n",
    "\n",
    "for list in people:\n",
    "    head_count += 1\n",
    "print(f\"Hay {head_count} personas.\")"
   ]
  },
  {
   "cell_type": "markdown",
   "metadata": {},
   "source": [
    "**Cuanta gente tiene hijos**?"
   ]
  },
  {
   "cell_type": "code",
   "execution_count": 14,
   "metadata": {},
   "outputs": [
    {
     "name": "stdout",
     "output_type": "stream",
     "text": [
      "El número de personas con hijos es 4.\n"
     ]
    }
   ],
   "source": [
    "# Crear variable 'padres' para luego agregar el número de gente con hijos\n",
    "\n",
    "padres = (0)\n",
    "\n",
    "# Usar for loop para contar el número de gente con hijos y agregarlo al variable 'padres'\n",
    "\n",
    "for p in people:\n",
    "     if p[\"n_kids\"] > 0:\n",
    "       padres += 1  \n",
    "print(f\"El número de personas con hijos es {padres}.\")"
   ]
  },
  {
   "cell_type": "markdown",
   "metadata": {},
   "source": [
    "**Cuantos hijos tienen en total?**"
   ]
  },
  {
   "cell_type": "code",
   "execution_count": 15,
   "metadata": {},
   "outputs": [
    {
     "name": "stdout",
     "output_type": "stream",
     "text": [
      "El número de hijos es 10.\n"
     ]
    }
   ],
   "source": [
    "# Crear variable 'hijos' para luego agregar el número de hijos\n",
    "\n",
    "hijos = (0)\n",
    "\n",
    "# Usar for loop para contar el número de hijos y agregarlo al variable 'hijos'\n",
    "\n",
    "for p in people:\n",
    "     hijos += (p[\"n_kids\"])\n",
    "print(f\"El número de hijos es {hijos}.\")"
   ]
  },
  {
   "cell_type": "markdown",
   "metadata": {},
   "source": [
    "**En un año, los nombres que terminen en \"a\" tendrán un niño extra. Crea una lista de diccionarios con la información de las personas en un año**"
   ]
  },
  {
   "cell_type": "code",
   "execution_count": 16,
   "metadata": {},
   "outputs": [
    {
     "name": "stdout",
     "output_type": "stream",
     "text": [
      "[{'name': 'Juan', 'age': 34, 'n_kids': 2}, {'name': 'Pepe', 'age': 27, 'n_kids': 0}, {'name': 'Sonia', 'age': 41, 'n_kids': 2}, {'name': 'Lucía', 'age': 22, 'n_kids': 3}, {'name': 'Leo', 'age': 55, 'n_kids': 5}]\n"
     ]
    }
   ],
   "source": [
    "# Import copy para usar la función 'deepcopy' y luego crear una copia independiente de la lista 'people' sin modificar la lista original\n",
    "\n",
    "import copy\n",
    "\n",
    "next_year = copy.deepcopy(people)\n",
    "\n",
    "# Crear for loop para encontrar los nombres que terminen en 'a', darles otro hijo y agregar el resultado a la nueva lista 'next_year'\n",
    "\n",
    "for p in next_year:\n",
    "    if p[\"name\"].endswith(\"a\"):\n",
    "        p[\"n_kids\"] +=1\n",
    "\n",
    "print(next_year)"
   ]
  },
  {
   "cell_type": "code",
   "execution_count": null,
   "metadata": {},
   "outputs": [],
   "source": []
  }
 ],
 "metadata": {
  "kernelspec": {
   "display_name": "Python 3 (ipykernel)",
   "language": "python",
   "name": "python3"
  },
  "language_info": {
   "codemirror_mode": {
    "name": "ipython",
    "version": 3
   },
   "file_extension": ".py",
   "mimetype": "text/x-python",
   "name": "python",
   "nbconvert_exporter": "python",
   "pygments_lexer": "ipython3",
   "version": "3.9.6"
  },
  "toc": {
   "base_numbering": 1,
   "nav_menu": {},
   "number_sections": false,
   "sideBar": true,
   "skip_h1_title": false,
   "title_cell": "Table of Contents",
   "title_sidebar": "Contents",
   "toc_cell": false,
   "toc_position": {},
   "toc_section_display": true,
   "toc_window_display": true
  },
  "varInspector": {
   "cols": {
    "lenName": 16,
    "lenType": 16,
    "lenVar": 40
   },
   "kernels_config": {
    "python": {
     "delete_cmd_postfix": "",
     "delete_cmd_prefix": "del ",
     "library": "var_list.py",
     "varRefreshCmd": "print(var_dic_list())"
    },
    "r": {
     "delete_cmd_postfix": ") ",
     "delete_cmd_prefix": "rm(",
     "library": "var_list.r",
     "varRefreshCmd": "cat(var_dic_list()) "
    }
   },
   "types_to_exclude": [
    "module",
    "function",
    "builtin_function_or_method",
    "instance",
    "_Feature"
   ],
   "window_display": false
  },
  "vscode": {
   "interpreter": {
    "hash": "aee8b7b246df8f9039afb4144a1f6fd8d2ca17a180786b69acc140d282b71a49"
   }
  }
 },
 "nbformat": 4,
 "nbformat_minor": 4
}
